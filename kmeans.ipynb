{
 "cells": [
  {
   "cell_type": "markdown",
   "metadata": {
    "id": "TAKGHX2jCkrQ"
   },
   "source": [
    "# Clustering using K-Means"
   ]
  },
  {
   "cell_type": "markdown",
   "metadata": {
    "id": "BegYe7AbCkrY"
   },
   "source": [
    "# Load dataset"
   ]
  },
  {
   "cell_type": "code",
   "execution_count": null,
   "metadata": {
    "colab": {
     "base_uri": "https://localhost:8080/"
    },
    "id": "pXIVCO3ZEXRI",
    "outputId": "1e4355aa-11c3-4883-b41f-97c033b2454a"
   },
   "outputs": [
    {
     "name": "stdout",
     "output_type": "stream",
     "text": [
      "Drive already mounted at /content/drive; to attempt to forcibly remount, call drive.mount(\"/content/drive\", force_remount=True).\n",
      "[Errno 2] No such file or directory: 'drive/MyDrive'\n",
      "/content/drive/MyDrive\n"
     ]
    }
   ],
   "source": [
    "from google.colab import drive\n",
    "drive.mount('/content/drive')\n",
    "%cd drive/MyDrive"
   ]
  },
  {
   "cell_type": "code",
   "execution_count": null,
   "metadata": {
    "colab": {
     "base_uri": "https://localhost:8080/"
    },
    "id": "e1RNWHl2EuZq",
    "outputId": "0ff66760-00ca-407a-cb3c-433b44f0d223"
   },
   "outputs": [
    {
     "name": "stdout",
     "output_type": "stream",
     "text": [
      "'3rd Year.gform'\n",
      " AI\n",
      " AIML-3.gform\n",
      " AIML-4.gform\n",
      "' AIML-5.gform'\n",
      " AIML-6.gform\n",
      "'AIML - 7.gform'\n",
      " AIML-8.gform\n",
      "' AIML-9.gform'\n",
      " Classroom\n",
      "'Colab Notebooks'\n",
      "'Computer Science Book'\n",
      " CSD813_DMDW_4th_Year_CSE.docx\n",
      " CSP604_AIML_3rd_Year_CSE.docx\n",
      " CSP604-B-1.gform\n",
      " CSP605-A-1.gform\n",
      " CSP605-A-2.gform\n",
      " CSP605_AIML_3rd_Year_CSE.docx\n",
      "'Data Mining & Data Warehouse - 2.gform'\n",
      "'Data Mining & Data Warehouse - 3.gform'\n",
      "'Data Mining & Data Warehouse - 3 (Responses).gsheet'\n",
      "' Data Mining & Data Warehouse - 5.gform'\n",
      "' Data Mining & Data Warehouse - 6.gform'\n",
      "' Data Mining & Data Warehouse -7.gform'\n",
      "'Data Mining & Data Warehouse -8.gform'\n",
      "'Data Mining & Data Warehouse -9.gform'\n",
      "'Data Mining & Data Warehouse.gform'\n",
      " ebook\n",
      "'final spbo code.zip'\n",
      "'Image Registration'\n",
      "'Information Theory'\n",
      " Job\n",
      "'Machine Learning'\n",
      " Misc\n",
      "'My Docs'\n",
      " Personal\n",
      " POFWA\n",
      " Python\n",
      " Research\n",
      " Review\n",
      " UEM\n",
      "'Untitled form.gform'\n"
     ]
    }
   ],
   "source": [
    "!ls"
   ]
  },
  {
   "cell_type": "code",
   "execution_count": null,
   "metadata": {
    "colab": {
     "base_uri": "https://localhost:8080/"
    },
    "id": "Cj2Jb_ZTCkrZ",
    "outputId": "062d9a59-50bb-46b9-d6db-9dad2a65c1c7"
   },
   "outputs": [
    {
     "data": {
      "text/plain": [
       "(768, 8)"
      ]
     },
     "execution_count": 20,
     "metadata": {},
     "output_type": "execute_result"
    }
   ],
   "source": [
    "from scipy.io import loadmat\n",
    "#path=\"/content/drive/MyDrive/UEM/AIML LAB/Classification/\"\n",
    "path=\"./UEM/AIML LAB/Classification/\"\n",
    "data = loadmat(path+'pima_dataset.mat')\n",
    "X=data['norm_data']\n",
    "y=data['target']\n",
    "X.shape"
   ]
  },
  {
   "cell_type": "code",
   "execution_count": null,
   "metadata": {
    "colab": {
     "base_uri": "https://localhost:8080/"
    },
    "id": "o4kljmESCx9J",
    "outputId": "ee398635-6a16-4a32-cc85-8b606e7ff66a"
   },
   "outputs": [
    {
     "data": {
      "text/plain": [
       "array([[0.35294118, 0.74371859, 0.59016393, ..., 0.50074516, 0.23441503,\n",
       "        0.48333333],\n",
       "       [0.05882353, 0.42713568, 0.54098361, ..., 0.39642325, 0.11656704,\n",
       "        0.16666667],\n",
       "       [0.47058824, 0.91959799, 0.52459016, ..., 0.34724292, 0.25362938,\n",
       "        0.18333333],\n",
       "       ...,\n",
       "       [0.29411765, 0.6080402 , 0.59016393, ..., 0.390462  , 0.07130658,\n",
       "        0.15      ],\n",
       "       [0.05882353, 0.63316583, 0.49180328, ..., 0.4485842 , 0.11571307,\n",
       "        0.43333333],\n",
       "       [0.05882353, 0.46733668, 0.57377049, ..., 0.45305514, 0.10119556,\n",
       "        0.03333333]])"
      ]
     },
     "execution_count": 21,
     "metadata": {},
     "output_type": "execute_result"
    }
   ],
   "source": [
    "X"
   ]
  },
  {
   "cell_type": "code",
   "execution_count": null,
   "metadata": {
    "id": "t4xD0NNbCkrc"
   },
   "outputs": [],
   "source": [
    "import numpy as np\n",
    "import math\n",
    "from sklearn.model_selection import train_test_split\n",
    "from sklearn import datasets\n",
    "from sklearn.cluster import KMeans\n"
   ]
  },
  {
   "cell_type": "code",
   "execution_count": null,
   "metadata": {
    "id": "5Qz7jQfFCkrd"
   },
   "outputs": [],
   "source": [
    "from sklearn.metrics import *"
   ]
  },
  {
   "cell_type": "code",
   "execution_count": null,
   "metadata": {
    "id": "8vWlnd26Owhx"
   },
   "outputs": [],
   "source": [
    "kmeans = KMeans(n_clusters=2, random_state=0).fit(X)"
   ]
  },
  {
   "cell_type": "code",
   "execution_count": null,
   "metadata": {
    "colab": {
     "base_uri": "https://localhost:8080/"
    },
    "id": "BF2ttjc5Q1U2",
    "outputId": "91287fd9-5522-4843-e2bd-ba86fb55bf98"
   },
   "outputs": [
    {
     "data": {
      "text/plain": [
       "array([[0.12255854, 0.57953847, 0.54090403, 0.22039816, 0.10049577,\n",
       "        0.47354912, 0.16771244, 0.09621359],\n",
       "       [0.43710765, 0.66444873, 0.61841508, 0.18105961, 0.08176585,\n",
       "        0.48338566, 0.16913013, 0.42345191]])"
      ]
     },
     "execution_count": 25,
     "metadata": {},
     "output_type": "execute_result"
    }
   ],
   "source": [
    "kmeans.cluster_centers_"
   ]
  },
  {
   "cell_type": "code",
   "execution_count": null,
   "metadata": {
    "colab": {
     "base_uri": "https://localhost:8080/"
    },
    "id": "mMG3lWNHRKkD",
    "outputId": "145341b9-bb5f-4ff9-dfa4-b1a11baa797c"
   },
   "outputs": [
    {
     "data": {
      "text/plain": [
       "1.6080911012982801"
      ]
     },
     "execution_count": 26,
     "metadata": {},
     "output_type": "execute_result"
    }
   ],
   "source": [
    "davies_bouldin_score(X,kmeans.labels_)"
   ]
  }
 ],
 "metadata": {
  "colab": {
   "provenance": []
  },
  "kernelspec": {
   "display_name": "Python 3 (ipykernel)",
   "language": "python",
   "name": "python3"
  },
  "language_info": {
   "codemirror_mode": {
    "name": "ipython",
    "version": 3
   },
   "file_extension": ".py",
   "mimetype": "text/x-python",
   "name": "python",
   "nbconvert_exporter": "python",
   "pygments_lexer": "ipython3",
   "version": "3.10.6"
  }
 },
 "nbformat": 4,
 "nbformat_minor": 1
}
