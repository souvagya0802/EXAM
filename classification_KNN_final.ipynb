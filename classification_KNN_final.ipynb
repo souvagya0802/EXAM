{
 "cells": [
  {
   "cell_type": "markdown",
   "metadata": {
    "id": "TAKGHX2jCkrQ"
   },
   "source": [
    "# Medical data classification using KNN"
   ]
  },
  {
   "cell_type": "markdown",
   "metadata": {
    "id": "BegYe7AbCkrY"
   },
   "source": [
    "# Load dataset"
   ]
  },
  {
   "cell_type": "code",
   "execution_count": null,
   "metadata": {
    "colab": {
     "base_uri": "https://localhost:8080/"
    },
    "id": "pXIVCO3ZEXRI",
    "outputId": "617f28f1-5db0-4503-a41e-87dcd7821d55"
   },
   "outputs": [
    {
     "name": "stdout",
     "output_type": "stream",
     "text": [
      "Drive already mounted at /content/drive; to attempt to forcibly remount, call drive.mount(\"/content/drive\", force_remount=True).\n",
      "[Errno 2] No such file or directory: 'drive/MyDrive'\n",
      "/content/drive/MyDrive\n"
     ]
    }
   ],
   "source": [
    "from google.colab import drive\n",
    "drive.mount('/content/drive')\n",
    "%cd drive/MyDrive"
   ]
  },
  {
   "cell_type": "code",
   "execution_count": null,
   "metadata": {
    "colab": {
     "base_uri": "https://localhost:8080/"
    },
    "id": "e1RNWHl2EuZq",
    "outputId": "8f55a2ed-92dc-4ebc-9f5c-c6fd4b0b5425"
   },
   "outputs": [
    {
     "name": "stdout",
     "output_type": "stream",
     "text": [
      "'3rd Year.gform'\n",
      " AI\n",
      " AIML-3.gform\n",
      " AIML-4.gform\n",
      "' AIML-5.gform'\n",
      " AIML-6.gform\n",
      "'AIML - 7.gform'\n",
      " AIML-8.gform\n",
      "' AIML-9.gform'\n",
      " Classroom\n",
      "'Colab Notebooks'\n",
      "'Computer Science Book'\n",
      " CSD813_DMDW_4th_Year_CSE.docx\n",
      " CSP604_AIML_3rd_Year_CSE.docx\n",
      " CSP604-B-1.gform\n",
      " CSP605-A-1.gform\n",
      " CSP605-A-2.gform\n",
      " CSP605_AIML_3rd_Year_CSE.docx\n",
      "'Data Mining & Data Warehouse - 2.gform'\n",
      "'Data Mining & Data Warehouse - 3.gform'\n",
      "'Data Mining & Data Warehouse - 3 (Responses).gsheet'\n",
      "' Data Mining & Data Warehouse - 5.gform'\n",
      "' Data Mining & Data Warehouse - 6.gform'\n",
      "' Data Mining & Data Warehouse -7.gform'\n",
      "'Data Mining & Data Warehouse -8.gform'\n",
      "'Data Mining & Data Warehouse -9.gform'\n",
      "'Data Mining & Data Warehouse.gform'\n",
      " ebook\n",
      "'final spbo code.zip'\n",
      "'Image Registration'\n",
      "'Information Theory'\n",
      " Job\n",
      "'Machine Learning'\n",
      " Misc\n",
      "'My Docs'\n",
      " Personal\n",
      " POFWA\n",
      " Python\n",
      " Research\n",
      " Review\n",
      " UEM\n",
      "'Untitled form.gform'\n"
     ]
    }
   ],
   "source": [
    "!ls"
   ]
  },
  {
   "cell_type": "code",
   "execution_count": null,
   "metadata": {
    "colab": {
     "base_uri": "https://localhost:8080/"
    },
    "id": "Cj2Jb_ZTCkrZ",
    "outputId": "9be26dd5-a667-4969-ab92-c971a9f0a0d8"
   },
   "outputs": [
    {
     "data": {
      "text/plain": [
       "(768, 8)"
      ]
     },
     "execution_count": 34,
     "metadata": {},
     "output_type": "execute_result"
    }
   ],
   "source": [
    "from scipy.io import loadmat\n",
    "#path=\"/content/drive/MyDrive/UEM/AIML LAB/Classification/\"\n",
    "path=\"./UEM/AIML LAB/Classification/\"\n",
    "data = loadmat(path+'pima_dataset.mat')\n",
    "X=data['norm_data']\n",
    "y=data['target']\n",
    "X.shape"
   ]
  },
  {
   "cell_type": "code",
   "execution_count": null,
   "metadata": {
    "id": "t4xD0NNbCkrc"
   },
   "outputs": [],
   "source": [
    "import numpy as np\n",
    "import math\n",
    "from sklearn.model_selection import train_test_split\n",
    "from sklearn import datasets\n",
    "from sklearn.model_selection import cross_val_score\n",
    "from sklearn.model_selection import KFold"
   ]
  },
  {
   "cell_type": "code",
   "execution_count": null,
   "metadata": {
    "id": "smCr9EKACkrd"
   },
   "outputs": [],
   "source": [
    "from sklearn.neighbors import KNeighborsClassifier"
   ]
  },
  {
   "cell_type": "code",
   "execution_count": null,
   "metadata": {
    "id": "5Qz7jQfFCkrd"
   },
   "outputs": [],
   "source": [
    "from sklearn.metrics import *"
   ]
  },
  {
   "cell_type": "markdown",
   "metadata": {
    "id": "llcnuVJXCkre"
   },
   "source": [
    "# Classification performance measure function"
   ]
  },
  {
   "cell_type": "code",
   "execution_count": null,
   "metadata": {
    "id": "UJaDmThQCkrf"
   },
   "outputs": [],
   "source": [
    "def classification_performance(conf_matrix):\n",
    "    accureacy=(conf_matrix[0][0]+conf_matrix[1][1])/(conf_matrix[0][0]+conf_matrix[0][1]+conf_matrix[1][0]+conf_matrix[1][1])\n",
    "    recall=(conf_matrix[0][0])/(conf_matrix[0][0]+conf_matrix[1][0])\n",
    "    specificity=(conf_matrix[1][1])/(conf_matrix[0][1]+conf_matrix[1][1])\n",
    "    precision=(conf_matrix[0][0])/(conf_matrix[0][0]+conf_matrix[0][1])\n",
    "    F1_score=(2*precision*recall)/(precision+recall)\n",
    "    GM=math.sqrt(recall*specificity)\n",
    "    FPR=1-specificity\n",
    "    return accureacy,recall,specificity,precision,F1_score,GM,FPR"
   ]
  },
  {
   "cell_type": "code",
   "execution_count": null,
   "metadata": {
    "colab": {
     "base_uri": "https://localhost:8080/"
    },
    "id": "p49fVoE5Ckrg",
    "outputId": "1c24e808-b0c2-454f-cb41-fa2c32807fa8"
   },
   "outputs": [
    {
     "name": "stdout",
     "output_type": "stream",
     "text": [
      "Fold:0\n",
      "Accuracy: 0.65, Recall=0.66, specificity=0.62, precision=0.82, F1=0.73, GM=0.64, FPR=0.38\n",
      "Fold:1\n",
      "Accuracy: 0.83, Recall=0.82, specificity=0.91, precision=0.98, F1=0.89, GM=0.86, FPR=0.09\n",
      "Fold:2\n",
      "Accuracy: 0.70, Recall=0.66, specificity=0.87, precision=0.95, F1=0.78, GM=0.76, FPR=0.13\n",
      "Fold:3\n",
      "Accuracy: 0.68, Recall=0.69, specificity=0.63, precision=0.85, F1=0.76, GM=0.66, FPR=0.37\n",
      "Fold:4\n",
      "Accuracy: 0.74, Recall=0.73, specificity=0.77, precision=0.94, F1=0.82, GM=0.75, FPR=0.23\n",
      "Fold:5\n",
      "Accuracy: 0.71, Recall=0.70, specificity=0.79, precision=0.94, F1=0.80, GM=0.74, FPR=0.21\n",
      "Fold:6\n",
      "Accuracy: 0.84, Recall=0.90, specificity=0.57, precision=0.90, F1=0.90, GM=0.72, FPR=0.43\n",
      "Fold:7\n",
      "Accuracy: 0.82, Recall=0.81, specificity=0.87, precision=0.96, F1=0.88, GM=0.84, FPR=0.13\n",
      "Fold:8\n",
      "Accuracy: 0.72, Recall=0.78, specificity=0.57, precision=0.83, F1=0.80, GM=0.67, FPR=0.43\n",
      "Fold:9\n",
      "Accuracy: 0.74, Recall=0.71, specificity=0.86, precision=0.96, F1=0.81, GM=0.78, FPR=0.14\n",
      "=======================================AVERAGE OVER K-FOLD===================================\n",
      "Accuracy: 0.74, Recall=0.75, specificity=0.74, precision=0.91, F1=0.82, GM=0.74, FPR=0.26\n"
     ]
    },
    {
     "name": "stderr",
     "output_type": "stream",
     "text": [
      "/usr/local/lib/python3.8/dist-packages/sklearn/neighbors/_classification.py:198: DataConversionWarning: A column-vector y was passed when a 1d array was expected. Please change the shape of y to (n_samples,), for example using ravel().\n",
      "  return self._fit(X, y)\n",
      "/usr/local/lib/python3.8/dist-packages/sklearn/neighbors/_classification.py:198: DataConversionWarning: A column-vector y was passed when a 1d array was expected. Please change the shape of y to (n_samples,), for example using ravel().\n",
      "  return self._fit(X, y)\n",
      "/usr/local/lib/python3.8/dist-packages/sklearn/neighbors/_classification.py:198: DataConversionWarning: A column-vector y was passed when a 1d array was expected. Please change the shape of y to (n_samples,), for example using ravel().\n",
      "  return self._fit(X, y)\n",
      "/usr/local/lib/python3.8/dist-packages/sklearn/neighbors/_classification.py:198: DataConversionWarning: A column-vector y was passed when a 1d array was expected. Please change the shape of y to (n_samples,), for example using ravel().\n",
      "  return self._fit(X, y)\n",
      "/usr/local/lib/python3.8/dist-packages/sklearn/neighbors/_classification.py:198: DataConversionWarning: A column-vector y was passed when a 1d array was expected. Please change the shape of y to (n_samples,), for example using ravel().\n",
      "  return self._fit(X, y)\n",
      "/usr/local/lib/python3.8/dist-packages/sklearn/neighbors/_classification.py:198: DataConversionWarning: A column-vector y was passed when a 1d array was expected. Please change the shape of y to (n_samples,), for example using ravel().\n",
      "  return self._fit(X, y)\n",
      "/usr/local/lib/python3.8/dist-packages/sklearn/neighbors/_classification.py:198: DataConversionWarning: A column-vector y was passed when a 1d array was expected. Please change the shape of y to (n_samples,), for example using ravel().\n",
      "  return self._fit(X, y)\n",
      "/usr/local/lib/python3.8/dist-packages/sklearn/neighbors/_classification.py:198: DataConversionWarning: A column-vector y was passed when a 1d array was expected. Please change the shape of y to (n_samples,), for example using ravel().\n",
      "  return self._fit(X, y)\n",
      "/usr/local/lib/python3.8/dist-packages/sklearn/neighbors/_classification.py:198: DataConversionWarning: A column-vector y was passed when a 1d array was expected. Please change the shape of y to (n_samples,), for example using ravel().\n",
      "  return self._fit(X, y)\n",
      "/usr/local/lib/python3.8/dist-packages/sklearn/neighbors/_classification.py:198: DataConversionWarning: A column-vector y was passed when a 1d array was expected. Please change the shape of y to (n_samples,), for example using ravel().\n",
      "  return self._fit(X, y)\n"
     ]
    }
   ],
   "source": [
    "k=10;\n",
    "kf = KFold(n_splits=10)\n",
    "acc=np.zeros(k,float)\n",
    "recall=np.zeros(k,float)\n",
    "spec=np.zeros(k,float)\n",
    "precision=np.zeros(k,float)\n",
    "F1=np.zeros(k,float)\n",
    "GM=np.zeros(k,float)\n",
    "FPR=np.zeros(k,float)\n",
    "iter=0;\n",
    "for train, test in kf.split(X):\n",
    "    \n",
    "    print(\"Fold:%d\" % (iter))\n",
    "    #print(\"%s %s\" % (train, test))\n",
    "    X_train=X[train]\n",
    "    y_train=y[train]\n",
    "    X_test=X[test]\n",
    "    y_test=y[test]\n",
    "    hidden_nodes=X_train.shape[1]\n",
    "    clf = KNeighborsClassifier(n_neighbors=4)\n",
    "    clf.fit(X_train, y_train)\n",
    "    y_pred=clf.predict(X_test)\n",
    "    conf_matrix=confusion_matrix(y_test, y_pred)\n",
    "    acc[iter], recall[iter], spec[iter], precision[iter], F1[iter], GM[iter], FPR[iter]=classification_performance(conf_matrix)\n",
    "    print(\"Accuracy: %0.2f, Recall=%0.2f, specificity=%0.2f, precision=%0.2f, F1=%0.2f, GM=%0.2f, FPR=%0.2f\" % (acc[iter], recall[iter], spec[iter], precision[iter], F1[iter], GM[iter], FPR[iter]))\n",
    "    iter=iter+1\n",
    "print('=======================================AVERAGE OVER K-FOLD===================================')\n",
    "print(\"Accuracy: %0.2f, Recall=%0.2f, specificity=%0.2f, precision=%0.2f, F1=%0.2f, GM=%0.2f, FPR=%0.2f\" % (acc.mean(), recall.mean(), spec.mean(), precision.mean(), F1.mean(), GM.mean(), FPR.mean()))  "
   ]
  },
  {
   "cell_type": "code",
   "execution_count": null,
   "metadata": {
    "colab": {
     "base_uri": "https://localhost:8080/"
    },
    "id": "emddjqKaCkrh",
    "outputId": "e496c50c-eb05-4fc9-ce44-34d1e5727b26"
   },
   "outputs": [
    {
     "data": {
      "text/plain": [
       "array([[39,  7],\n",
       "       [11, 19]])"
      ]
     },
     "execution_count": 40,
     "metadata": {},
     "output_type": "execute_result"
    }
   ],
   "source": [
    "conf_matrix"
   ]
  }
 ],
 "metadata": {
  "colab": {
   "provenance": []
  },
  "kernelspec": {
   "display_name": "Python 3 (ipykernel)",
   "language": "python",
   "name": "python3"
  },
  "language_info": {
   "codemirror_mode": {
    "name": "ipython",
    "version": 3
   },
   "file_extension": ".py",
   "mimetype": "text/x-python",
   "name": "python",
   "nbconvert_exporter": "python",
   "pygments_lexer": "ipython3",
   "version": "3.10.6"
  }
 },
 "nbformat": 4,
 "nbformat_minor": 1
}
